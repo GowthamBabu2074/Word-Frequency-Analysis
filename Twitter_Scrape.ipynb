{
 "cells": [
  {
   "cell_type": "code",
   "execution_count": 1,
   "id": "e059a9f0",
   "metadata": {},
   "outputs": [],
   "source": [
    "#pip install git+https://github.com/JustAnotherArchivist/snscrape.git\n",
    "#https://github.com/JustAnotherArchivist/snscrape/blob/master/snscrape/modules/twitter.py"
   ]
  },
  {
   "cell_type": "code",
   "execution_count": 1,
   "id": "4d73d4fc",
   "metadata": {},
   "outputs": [],
   "source": [
    "import snscrape.modules.twitter as sntwitter\n",
    "import pandas as pd"
   ]
  },
  {
   "cell_type": "code",
   "execution_count": 2,
   "id": "3aefc05f",
   "metadata": {},
   "outputs": [],
   "source": [
    "maxTweets = 10000\n",
    "\n",
    "# Creating list to append tweet data to\n",
    "tweets_list1 = []\n",
    "\n",
    "# Using TwitterSearchScraper to scrape data and append tweets to list\n",
    "for i,tweet in enumerate(sntwitter.TwitterSearchScraper('from:ZelenskyyUa').get_items()):\n",
    "    if i>maxTweets:\n",
    "        break\n",
    "    tweets_list1.append([tweet.date, tweet.id, tweet.content, tweet.user.username, \n",
    "                         tweet.likeCount, tweet.replyCount, tweet.retweetCount, tweet.lang])\n",
    "    \n",
    "# Creating a dataframe from the tweets list above\n",
    "tweets_df1 = pd.DataFrame(tweets_list1, columns=['Datetime', 'Tweet Id', 'Text', 'Username', \n",
    "                                                 'Like Count', 'Reply Count', 'Retweet Count', 'Language'])\n",
    "\n",
    "# Display first 5 entries from dataframe\n",
    "tweets_df1.to_csv('ZelenskyyUa_tweets.csv')"
   ]
  },
  {
   "cell_type": "code",
   "execution_count": 3,
   "id": "0446aca4",
   "metadata": {},
   "outputs": [
    {
     "data": {
      "text/html": [
       "<div>\n",
       "<style scoped>\n",
       "    .dataframe tbody tr th:only-of-type {\n",
       "        vertical-align: middle;\n",
       "    }\n",
       "\n",
       "    .dataframe tbody tr th {\n",
       "        vertical-align: top;\n",
       "    }\n",
       "\n",
       "    .dataframe thead th {\n",
       "        text-align: right;\n",
       "    }\n",
       "</style>\n",
       "<table border=\"1\" class=\"dataframe\">\n",
       "  <thead>\n",
       "    <tr style=\"text-align: right;\">\n",
       "      <th></th>\n",
       "      <th>Unnamed: 0</th>\n",
       "      <th>Datetime</th>\n",
       "      <th>Tweet Id</th>\n",
       "      <th>Text</th>\n",
       "      <th>Username</th>\n",
       "      <th>Like Count</th>\n",
       "      <th>Reply Count</th>\n",
       "      <th>Retweet Count</th>\n",
       "      <th>Language</th>\n",
       "    </tr>\n",
       "  </thead>\n",
       "  <tbody>\n",
       "    <tr>\n",
       "      <th>0</th>\n",
       "      <td>0</td>\n",
       "      <td>2022-02-27 23:34:10+00:00</td>\n",
       "      <td>1498079039235502081</td>\n",
       "      <td>Also had a phone conversation with @vonderleye...</td>\n",
       "      <td>ZelenskyyUa</td>\n",
       "      <td>57452</td>\n",
       "      <td>2222</td>\n",
       "      <td>7335</td>\n",
       "      <td>en</td>\n",
       "    </tr>\n",
       "    <tr>\n",
       "      <th>1</th>\n",
       "      <td>1</td>\n",
       "      <td>2022-02-27 23:34:05+00:00</td>\n",
       "      <td>1498079017328648197</td>\n",
       "      <td>Також провів телефонну розмову з @vonderleyen....</td>\n",
       "      <td>ZelenskyyUa</td>\n",
       "      <td>12252</td>\n",
       "      <td>410</td>\n",
       "      <td>1307</td>\n",
       "      <td>uk</td>\n",
       "    </tr>\n",
       "    <tr>\n",
       "      <th>2</th>\n",
       "      <td>2</td>\n",
       "      <td>2022-02-27 23:25:42+00:00</td>\n",
       "      <td>1498076908860456964</td>\n",
       "      <td>Talked to 🇬🇧 Prime Minister @BorisJohnson and ...</td>\n",
       "      <td>ZelenskyyUa</td>\n",
       "      <td>89891</td>\n",
       "      <td>1887</td>\n",
       "      <td>10925</td>\n",
       "      <td>en</td>\n",
       "    </tr>\n",
       "    <tr>\n",
       "      <th>3</th>\n",
       "      <td>3</td>\n",
       "      <td>2022-02-27 23:25:36+00:00</td>\n",
       "      <td>1498076881995898885</td>\n",
       "      <td>Поговорив із Прем'єр-міністром 🇬🇧 @BorisJohnso...</td>\n",
       "      <td>ZelenskyyUa</td>\n",
       "      <td>16665</td>\n",
       "      <td>449</td>\n",
       "      <td>1861</td>\n",
       "      <td>uk</td>\n",
       "    </tr>\n",
       "    <tr>\n",
       "      <th>4</th>\n",
       "      <td>4</td>\n",
       "      <td>2022-02-27 22:56:21+00:00</td>\n",
       "      <td>1498069523467051008</td>\n",
       "      <td>Thank you for the warm conversation, Your All-...</td>\n",
       "      <td>ZelenskyyUa</td>\n",
       "      <td>69747</td>\n",
       "      <td>1922</td>\n",
       "      <td>6880</td>\n",
       "      <td>en</td>\n",
       "    </tr>\n",
       "  </tbody>\n",
       "</table>\n",
       "</div>"
      ],
      "text/plain": [
       "   Unnamed: 0                   Datetime             Tweet Id  \\\n",
       "0           0  2022-02-27 23:34:10+00:00  1498079039235502081   \n",
       "1           1  2022-02-27 23:34:05+00:00  1498079017328648197   \n",
       "2           2  2022-02-27 23:25:42+00:00  1498076908860456964   \n",
       "3           3  2022-02-27 23:25:36+00:00  1498076881995898885   \n",
       "4           4  2022-02-27 22:56:21+00:00  1498069523467051008   \n",
       "\n",
       "                                                Text     Username  Like Count  \\\n",
       "0  Also had a phone conversation with @vonderleye...  ZelenskyyUa       57452   \n",
       "1  Також провів телефонну розмову з @vonderleyen....  ZelenskyyUa       12252   \n",
       "2  Talked to 🇬🇧 Prime Minister @BorisJohnson and ...  ZelenskyyUa       89891   \n",
       "3  Поговорив із Прем'єр-міністром 🇬🇧 @BorisJohnso...  ZelenskyyUa       16665   \n",
       "4  Thank you for the warm conversation, Your All-...  ZelenskyyUa       69747   \n",
       "\n",
       "   Reply Count  Retweet Count Language  \n",
       "0         2222           7335       en  \n",
       "1          410           1307       uk  \n",
       "2         1887          10925       en  \n",
       "3          449           1861       uk  \n",
       "4         1922           6880       en  "
      ]
     },
     "execution_count": 3,
     "metadata": {},
     "output_type": "execute_result"
    }
   ],
   "source": [
    "df = pd.read_csv('ZelenskyyUa_tweets.csv')\n",
    "df.head()"
   ]
  },
  {
   "cell_type": "code",
   "execution_count": 4,
   "id": "feda9b2a",
   "metadata": {},
   "outputs": [
    {
     "data": {
      "text/plain": [
       "'2019-04-25 11:46:08+00:00'"
      ]
     },
     "execution_count": 4,
     "metadata": {},
     "output_type": "execute_result"
    }
   ],
   "source": [
    "min(df['Datetime'])"
   ]
  },
  {
   "cell_type": "code",
   "execution_count": 5,
   "id": "77d71390",
   "metadata": {},
   "outputs": [
    {
     "name": "stderr",
     "output_type": "stream",
     "text": [
      "Could not find card URL in tcooutlinks\n"
     ]
    }
   ],
   "source": [
    "maxTweets = 10000\n",
    "\n",
    "# Creating list to append tweet data to\n",
    "tweets_list1 = []\n",
    "\n",
    "# Using TwitterSearchScraper to scrape data and append tweets to list\n",
    "for i,tweet in enumerate(sntwitter.TwitterSearchScraper('from:KremlinRussia_E').get_items()):\n",
    "    if i>maxTweets:\n",
    "        break\n",
    "    tweets_list1.append([tweet.date, tweet.id, tweet.content, tweet.user.username, \n",
    "                         tweet.likeCount, tweet.replyCount, tweet.retweetCount, tweet.lang])\n",
    "    \n",
    "# Creating a dataframe from the tweets list above\n",
    "tweets_df1 = pd.DataFrame(tweets_list1, columns=['Datetime', 'Tweet Id', 'Text', 'Username', \n",
    "                                                 'Like Count', 'Reply Count', 'Retweet Count', 'Languages'])\n",
    "\n",
    "# Display first 5 entries from dataframe\n",
    "tweets_df1.to_csv('KremlinRussia_E_tweets.csv')"
   ]
  },
  {
   "cell_type": "code",
   "execution_count": 6,
   "id": "41901b69",
   "metadata": {},
   "outputs": [
    {
     "data": {
      "text/html": [
       "<div>\n",
       "<style scoped>\n",
       "    .dataframe tbody tr th:only-of-type {\n",
       "        vertical-align: middle;\n",
       "    }\n",
       "\n",
       "    .dataframe tbody tr th {\n",
       "        vertical-align: top;\n",
       "    }\n",
       "\n",
       "    .dataframe thead th {\n",
       "        text-align: right;\n",
       "    }\n",
       "</style>\n",
       "<table border=\"1\" class=\"dataframe\">\n",
       "  <thead>\n",
       "    <tr style=\"text-align: right;\">\n",
       "      <th></th>\n",
       "      <th>Unnamed: 0</th>\n",
       "      <th>Datetime</th>\n",
       "      <th>Tweet Id</th>\n",
       "      <th>Text</th>\n",
       "      <th>Username</th>\n",
       "      <th>Like Count</th>\n",
       "      <th>Reply Count</th>\n",
       "      <th>Retweet Count</th>\n",
       "      <th>Languages</th>\n",
       "    </tr>\n",
       "  </thead>\n",
       "  <tbody>\n",
       "    <tr>\n",
       "      <th>0</th>\n",
       "      <td>0</td>\n",
       "      <td>2022-02-27 17:54:45+00:00</td>\n",
       "      <td>1497993622326759446</td>\n",
       "      <td>#Moscow: Vladimir Putin visited the constructi...</td>\n",
       "      <td>KremlinRussia_E</td>\n",
       "      <td>6802</td>\n",
       "      <td>5900</td>\n",
       "      <td>880</td>\n",
       "      <td>en</td>\n",
       "    </tr>\n",
       "    <tr>\n",
       "      <th>1</th>\n",
       "      <td>1</td>\n",
       "      <td>2022-02-27 17:40:39+00:00</td>\n",
       "      <td>1497990075195531264</td>\n",
       "      <td>Vladimir Putin met with Defence Minister Serge...</td>\n",
       "      <td>KremlinRussia_E</td>\n",
       "      <td>3942</td>\n",
       "      <td>2509</td>\n",
       "      <td>637</td>\n",
       "      <td>en</td>\n",
       "    </tr>\n",
       "    <tr>\n",
       "      <th>2</th>\n",
       "      <td>2</td>\n",
       "      <td>2022-02-27 15:35:43+00:00</td>\n",
       "      <td>1497958634000719875</td>\n",
       "      <td>Telephone conversation with Prime Minister of ...</td>\n",
       "      <td>KremlinRussia_E</td>\n",
       "      <td>2754</td>\n",
       "      <td>2259</td>\n",
       "      <td>409</td>\n",
       "      <td>en</td>\n",
       "    </tr>\n",
       "    <tr>\n",
       "      <th>3</th>\n",
       "      <td>3</td>\n",
       "      <td>2022-02-27 12:36:51+00:00</td>\n",
       "      <td>1497913619962548226</td>\n",
       "      <td>The President congratulated Special Operations...</td>\n",
       "      <td>KremlinRussia_E</td>\n",
       "      <td>4889</td>\n",
       "      <td>4196</td>\n",
       "      <td>561</td>\n",
       "      <td>en</td>\n",
       "    </tr>\n",
       "    <tr>\n",
       "      <th>4</th>\n",
       "      <td>4</td>\n",
       "      <td>2022-02-26 18:57:59+00:00</td>\n",
       "      <td>1497647148019728394</td>\n",
       "      <td>Telephone conversation with Prime Minister of ...</td>\n",
       "      <td>KremlinRussia_E</td>\n",
       "      <td>4648</td>\n",
       "      <td>8931</td>\n",
       "      <td>541</td>\n",
       "      <td>en</td>\n",
       "    </tr>\n",
       "  </tbody>\n",
       "</table>\n",
       "</div>"
      ],
      "text/plain": [
       "   Unnamed: 0                   Datetime             Tweet Id  \\\n",
       "0           0  2022-02-27 17:54:45+00:00  1497993622326759446   \n",
       "1           1  2022-02-27 17:40:39+00:00  1497990075195531264   \n",
       "2           2  2022-02-27 15:35:43+00:00  1497958634000719875   \n",
       "3           3  2022-02-27 12:36:51+00:00  1497913619962548226   \n",
       "4           4  2022-02-26 18:57:59+00:00  1497647148019728394   \n",
       "\n",
       "                                                Text         Username  \\\n",
       "0  #Moscow: Vladimir Putin visited the constructi...  KremlinRussia_E   \n",
       "1  Vladimir Putin met with Defence Minister Serge...  KremlinRussia_E   \n",
       "2  Telephone conversation with Prime Minister of ...  KremlinRussia_E   \n",
       "3  The President congratulated Special Operations...  KremlinRussia_E   \n",
       "4  Telephone conversation with Prime Minister of ...  KremlinRussia_E   \n",
       "\n",
       "   Like Count  Reply Count  Retweet Count Languages  \n",
       "0        6802         5900            880        en  \n",
       "1        3942         2509            637        en  \n",
       "2        2754         2259            409        en  \n",
       "3        4889         4196            561        en  \n",
       "4        4648         8931            541        en  "
      ]
     },
     "execution_count": 6,
     "metadata": {},
     "output_type": "execute_result"
    }
   ],
   "source": [
    "df = pd.read_csv('KremlinRussia_E_tweets.csv')\n",
    "df.head()"
   ]
  },
  {
   "cell_type": "code",
   "execution_count": 7,
   "id": "1720a36d",
   "metadata": {},
   "outputs": [
    {
     "data": {
      "text/plain": [
       "'2010-11-29 09:51:32+00:00'"
      ]
     },
     "execution_count": 7,
     "metadata": {},
     "output_type": "execute_result"
    }
   ],
   "source": [
    "min(df['Datetime'])"
   ]
  },
  {
   "cell_type": "code",
   "execution_count": null,
   "id": "0bff85f7",
   "metadata": {},
   "outputs": [],
   "source": []
  }
 ],
 "metadata": {
  "kernelspec": {
   "display_name": "Python 3 (ipykernel)",
   "language": "python",
   "name": "python3"
  },
  "language_info": {
   "codemirror_mode": {
    "name": "ipython",
    "version": 3
   },
   "file_extension": ".py",
   "mimetype": "text/x-python",
   "name": "python",
   "nbconvert_exporter": "python",
   "pygments_lexer": "ipython3",
   "version": "3.9.7"
  }
 },
 "nbformat": 4,
 "nbformat_minor": 5
}
